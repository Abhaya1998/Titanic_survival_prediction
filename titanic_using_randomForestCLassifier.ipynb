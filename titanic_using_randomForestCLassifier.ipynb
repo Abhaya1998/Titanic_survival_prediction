{
 "cells": [
  {
   "cell_type": "code",
   "execution_count": 1,
   "metadata": {},
   "outputs": [],
   "source": [
    "import pandas as pd\n",
    "import numpy as np"
   ]
  },
  {
   "cell_type": "code",
   "execution_count": 2,
   "metadata": {},
   "outputs": [
    {
     "name": "stdout",
     "output_type": "stream",
     "text": [
      "   PassengerId  Survived  Pclass  \\\n",
      "0            1         0       3   \n",
      "1            2         1       1   \n",
      "2            3         1       3   \n",
      "3            4         1       1   \n",
      "4            5         0       3   \n",
      "\n",
      "                                                Name     Sex   Age  SibSp  \\\n",
      "0                            Braund, Mr. Owen Harris    male  22.0      1   \n",
      "1  Cumings, Mrs. John Bradley (Florence Briggs Th...  female  38.0      1   \n",
      "2                             Heikkinen, Miss. Laina  female  26.0      0   \n",
      "3       Futrelle, Mrs. Jacques Heath (Lily May Peel)  female  35.0      1   \n",
      "4                           Allen, Mr. William Henry    male  35.0      0   \n",
      "\n",
      "   Parch            Ticket     Fare Cabin Embarked  \n",
      "0      0         A/5 21171   7.2500   NaN        S  \n",
      "1      0          PC 17599  71.2833   C85        C  \n",
      "2      0  STON/O2. 3101282   7.9250   NaN        S  \n",
      "3      0            113803  53.1000  C123        S  \n",
      "4      0            373450   8.0500   NaN        S  \n"
     ]
    }
   ],
   "source": [
    "train=pd.read_csv('train.csv')\n",
    "print(train.head(5))"
   ]
  },
  {
   "cell_type": "markdown",
   "metadata": {},
   "source": [
    "#This is the titanic Dataset\n",
    "\n",
    "\n",
    "Variable\tDefinition\tKey\n",
    "survival\tSurvival\t0 = No, 1 = Yes\n",
    "pclass\tTicket class\t1 = 1st, 2 = 2nd, 3 = 3rd\n",
    "sex\tSex\t\n",
    "Age\tAge in years\t\n",
    "sibsp\t# of siblings / spouses aboard the Titanic\t\n",
    "parch\t# of parents / children aboard the Titanic\t\n",
    "ticket\tTicket number\t\n",
    "fare\tPassenger fare\t\n",
    "cabin\tCabin number\t\n",
    "embarked\tPort of Embarkation\tC = Cherbourg, Q = Queenstown, S = Southampton"
   ]
  },
  {
   "cell_type": "code",
   "execution_count": 3,
   "metadata": {},
   "outputs": [
    {
     "name": "stdout",
     "output_type": "stream",
     "text": [
      "   Survived  Pclass     Sex   Age  SibSp  Parch     Fare Cabin Embarked\n",
      "0         0       3    male  22.0      1      0   7.2500   NaN        S\n",
      "1         1       1  female  38.0      1      0  71.2833   C85        C\n",
      "2         1       3  female  26.0      0      0   7.9250   NaN        S\n",
      "3         1       1  female  35.0      1      0  53.1000  C123        S\n",
      "4         0       3    male  35.0      0      0   8.0500   NaN        S\n"
     ]
    }
   ],
   "source": [
    "train=train.drop(['Name','PassengerId','Ticket'],axis=1)\n",
    "print(train.head(5))"
   ]
  },
  {
   "cell_type": "code",
   "execution_count": 4,
   "metadata": {},
   "outputs": [
    {
     "name": "stdout",
     "output_type": "stream",
     "text": [
      "   Survived  Pclass  Sex   Age  SibSp  Parch     Fare Cabin Embarked\n",
      "0         0       3    1  22.0      1      0   7.2500   NaN        S\n",
      "1         1       1    0  38.0      1      0  71.2833   C85        C\n",
      "2         1       3    0  26.0      0      0   7.9250   NaN        S\n",
      "3         1       1    0  35.0      1      0  53.1000  C123        S\n",
      "4         0       3    1  35.0      0      0   8.0500   NaN        S\n"
     ]
    }
   ],
   "source": [
    "train['Sex']=train['Sex'].map({'male':1,'female':0})\n",
    "print(train.head(5))"
   ]
  },
  {
   "cell_type": "code",
   "execution_count": 5,
   "metadata": {},
   "outputs": [
    {
     "name": "stdout",
     "output_type": "stream",
     "text": [
      "   Pclass  Sex   Age  SibSp  Parch     Fare  Embarked\n",
      "0       3    1  22.0      1      0   7.2500       2.0\n",
      "1       1    0  38.0      1      0  71.2833       0.0\n",
      "2       3    0  26.0      0      0   7.9250       2.0\n",
      "3       1    0  35.0      1      0  53.1000       2.0\n",
      "4       3    1  35.0      0      0   8.0500       2.0\n"
     ]
    }
   ],
   "source": [
    "train=train.drop(['Cabin'],axis=1)\n",
    "train['Embarked']=train['Embarked'].map({'C':0,'Q':1,'S':2})\n",
    "trainy=train.Survived\n",
    "train=train.drop(['Survived'],axis=1)\n",
    "print(train.head(5))"
   ]
  },
  {
   "cell_type": "code",
   "execution_count": 6,
   "metadata": {},
   "outputs": [],
   "source": [
    "test=pd.read_csv('test.csv')\n",
    "test1=pd.read_csv('test.csv')"
   ]
  },
  {
   "cell_type": "code",
   "execution_count": 7,
   "metadata": {},
   "outputs": [
    {
     "name": "stdout",
     "output_type": "stream",
     "text": [
      "   Pclass  Sex   Age  SibSp  Parch     Fare  Embarked\n",
      "0       3    1  34.5      0      0   7.8292         1\n",
      "1       3    0  47.0      1      0   7.0000         2\n",
      "2       2    1  62.0      0      0   9.6875         1\n",
      "3       3    1  27.0      0      0   8.6625         2\n",
      "4       3    0  22.0      1      1  12.2875         2\n"
     ]
    }
   ],
   "source": [
    "test=test.drop(['PassengerId','Name','Ticket','Cabin'],axis=1)\n",
    "test['Sex']=test['Sex'].map({'male':1,'female':0})\n",
    "test['Embarked']=test['Embarked'].map({'C':0,'Q':1,'S':2})\n",
    "print(test.head(5))"
   ]
  },
  {
   "cell_type": "code",
   "execution_count": 8,
   "metadata": {},
   "outputs": [],
   "source": [
    "#print(test.isnull().sum())\n",
    "#from sklearn.preprocessing import Imputer\n",
    "#imp=Imputer()\n",
    "#train=imp.fit_transform(imp)\n",
    "#test=imp.fit_transform(imp)\n",
    "train.fillna(0,inplace=True)\n",
    "\n",
    "test.fillna(0,inplace=True)"
   ]
  },
  {
   "cell_type": "code",
   "execution_count": 9,
   "metadata": {},
   "outputs": [
    {
     "name": "stdout",
     "output_type": "stream",
     "text": [
      "0.7932960893854749\n"
     ]
    }
   ],
   "source": [
    "from sklearn.ensemble import RandomForestClassifier\n",
    "from sklearn.model_selection import train_test_split\n",
    "trainx,t,trainyy,y=train_test_split(train,trainy,test_size=0.2)\n",
    "model=RandomForestClassifier()\n",
    "model.fit(trainx,trainyy)\n",
    "py=model.score(t,y)\n",
    "print(py)"
   ]
  },
  {
   "cell_type": "markdown",
   "metadata": {},
   "source": [
    "#So the accuracy is around 79%"
   ]
  }
 ],
 "metadata": {
  "kernelspec": {
   "display_name": "Python 2",
   "language": "python",
   "name": "python2"
  },
  "language_info": {
   "codemirror_mode": {
    "name": "ipython",
    "version": 2
   },
   "file_extension": ".py",
   "mimetype": "text/x-python",
   "name": "python",
   "nbconvert_exporter": "python",
   "pygments_lexer": "ipython2",
   "version": "2.7.14"
  }
 },
 "nbformat": 4,
 "nbformat_minor": 2
}
